{
 "cells": [
  {
   "cell_type": "code",
   "execution_count": 3,
   "metadata": {
    "ExecuteTime": {
     "end_time": "2018-06-09T20:46:19.747564Z",
     "start_time": "2018-06-09T20:46:04.181596Z"
    }
   },
   "outputs": [],
   "source": [
    "import numpy as np\n",
    "import pandas as pd\n",
    "import re\n",
    "import nltk\n",
    "from nltk.tokenize import sent_tokenize, word_tokenize"
   ]
  },
  {
   "cell_type": "code",
   "execution_count": 4,
   "metadata": {
    "ExecuteTime": {
     "end_time": "2018-06-09T20:46:19.861590Z",
     "start_time": "2018-06-09T20:46:19.759561Z"
    }
   },
   "outputs": [],
   "source": [
    "word = \"yooks\"\n",
    "sample_text = [\n",
    "\"yooks are not zooks.\",\n",
    "\"yooks know how to cook.\",\n",
    "\"yooks are from yooktown.\",\n",
    "\"yooks are not from zooktown\",\n",
    "\"yooks like to cook.\",\n",
    "\"yooks like to read books.\",\n",
    "\"yooks like to read magazines.\",\n",
    "\"there are no yooks in zooktown.\"\n",
    "]"
   ]
  },
  {
   "cell_type": "code",
   "execution_count": 5,
   "metadata": {
    "ExecuteTime": {
     "end_time": "2018-06-09T20:46:19.899842Z",
     "start_time": "2018-06-09T20:46:19.871800Z"
    }
   },
   "outputs": [],
   "source": [
    "pattern = re.compile(\"yooks\")"
   ]
  },
  {
   "cell_type": "code",
   "execution_count": 6,
   "metadata": {
    "ExecuteTime": {
     "end_time": "2018-06-09T20:46:20.108564Z",
     "start_time": "2018-06-09T20:46:20.098914Z"
    }
   },
   "outputs": [],
   "source": [
    "iters = [pattern.finditer(text) for text in sample_text]"
   ]
  },
  {
   "cell_type": "code",
   "execution_count": 7,
   "metadata": {
    "ExecuteTime": {
     "end_time": "2018-06-09T20:46:20.242613Z",
     "start_time": "2018-06-09T20:46:20.175568Z"
    }
   },
   "outputs": [],
   "source": [
    "tokenized_text = [word_tokenize(text) for text in  sample_text]"
   ]
  },
  {
   "cell_type": "code",
   "execution_count": 8,
   "metadata": {
    "ExecuteTime": {
     "end_time": "2018-06-09T20:46:20.346631Z",
     "start_time": "2018-06-09T20:46:20.311564Z"
    }
   },
   "outputs": [
    {
     "data": {
      "text/plain": [
       "[['yooks', 'are', 'not', 'zooks', '.'],\n",
       " ['yooks', 'know', 'how', 'to', 'cook', '.'],\n",
       " ['yooks', 'are', 'from', 'yooktown', '.'],\n",
       " ['yooks', 'are', 'not', 'from', 'zooktown'],\n",
       " ['yooks', 'like', 'to', 'cook', '.'],\n",
       " ['yooks', 'like', 'to', 'read', 'books', '.'],\n",
       " ['yooks', 'like', 'to', 'read', 'magazines', '.'],\n",
       " ['there', 'are', 'no', 'yooks', 'in', 'zooktown', '.']]"
      ]
     },
     "execution_count": 8,
     "metadata": {},
     "output_type": "execute_result"
    }
   ],
   "source": [
    "tokenized_text"
   ]
  },
  {
   "cell_type": "code",
   "execution_count": 9,
   "metadata": {
    "ExecuteTime": {
     "end_time": "2018-06-09T20:46:20.422568Z",
     "start_time": "2018-06-09T20:46:20.414568Z"
    }
   },
   "outputs": [],
   "source": [
    "word_indices = [text.index(\"yooks\") for text in tokenized_text]"
   ]
  },
  {
   "cell_type": "code",
   "execution_count": 10,
   "metadata": {
    "ExecuteTime": {
     "end_time": "2018-06-09T20:46:20.499826Z",
     "start_time": "2018-06-09T20:46:20.487560Z"
    }
   },
   "outputs": [
    {
     "data": {
      "text/plain": [
       "[0, 0, 0, 0, 0, 0, 0, 3]"
      ]
     },
     "execution_count": 10,
     "metadata": {},
     "output_type": "execute_result"
    }
   ],
   "source": [
    "word_indices"
   ]
  },
  {
   "cell_type": "code",
   "execution_count": 84,
   "metadata": {
    "ExecuteTime": {
     "end_time": "2018-06-09T21:19:55.379449Z",
     "start_time": "2018-06-09T21:19:55.372448Z"
    }
   },
   "outputs": [],
   "source": [
    "raw_tree = {\"name\": word}\n",
    "raw_tree[\"raw_children\"] = [text[i+1:] for i,text in zip(word_indices,tokenized_text)]"
   ]
  },
  {
   "cell_type": "code",
   "execution_count": 85,
   "metadata": {
    "ExecuteTime": {
     "end_time": "2018-06-09T21:19:55.615452Z",
     "start_time": "2018-06-09T21:19:55.600449Z"
    }
   },
   "outputs": [
    {
     "data": {
      "text/plain": [
       "{'name': 'yooks',\n",
       " 'raw_children': [['are', 'not', 'zooks', '.'],\n",
       "  ['know', 'how', 'to', 'cook', '.'],\n",
       "  ['are', 'from', 'yooktown', '.'],\n",
       "  ['are', 'not', 'from', 'zooktown'],\n",
       "  ['like', 'to', 'cook', '.'],\n",
       "  ['like', 'to', 'read', 'books', '.'],\n",
       "  ['like', 'to', 'read', 'magazines', '.'],\n",
       "  ['in', 'zooktown', '.']]}"
      ]
     },
     "execution_count": 85,
     "metadata": {},
     "output_type": "execute_result"
    }
   ],
   "source": [
    "raw_tree"
   ]
  },
  {
   "cell_type": "code",
   "execution_count": 86,
   "metadata": {
    "ExecuteTime": {
     "end_time": "2018-06-09T21:19:55.893448Z",
     "start_time": "2018-06-09T21:19:55.874443Z"
    }
   },
   "outputs": [],
   "source": [
    "def process_child(child):\n",
    "  final = {\"name\": child[0]}\n",
    "  if len(child)==1:\n",
    "    final[\"size\"]=1\n",
    "  else:\n",
    "    final[\"children\"] = [process_child(child[1:])]\n",
    "  return final\n",
    "raw_tree[\"children\"] = [process_child(child) for child in raw_tree[\"raw_children\"]]"
   ]
  },
  {
   "cell_type": "code",
   "execution_count": 87,
   "metadata": {
    "ExecuteTime": {
     "end_time": "2018-06-09T21:19:56.329489Z",
     "start_time": "2018-06-09T21:19:56.323445Z"
    }
   },
   "outputs": [],
   "source": [
    "#print(raw_tree)"
   ]
  },
  {
   "cell_type": "code",
   "execution_count": 88,
   "metadata": {
    "ExecuteTime": {
     "end_time": "2018-06-09T21:19:57.401383Z",
     "start_time": "2018-06-09T21:19:57.379384Z"
    }
   },
   "outputs": [],
   "source": [
    "def combine_children(children, depth=0):\n",
    "  new_children = {}\n",
    "  for child in children:\n",
    "    if child[\"name\"] in new_children:\n",
    "      new_children[child[\"name\"]].get(\"children\")\n",
    "      if child.get(\"children\") and new_children[child[\"name\"]].get(\"children\"):\n",
    "        new_children[child[\"name\"]][\"children\"] = combine_children(list(child[\"children\"])+ list(new_children[child[\"name\"]][\"children\"]), depth=depth+1)\n",
    "      elif child.get(\"children\"):\n",
    "        new_children[child[\"name\"]][\"children\"] = child[\"children\"]\n",
    "      new_children[child[\"name\"]][\"size\"] = new_children[child[\"name\"]].get(\"size\",0) + child.get(\"size\",0)\n",
    "    else:\n",
    "      new_children[child[\"name\"]] = child\n",
    "  return list(new_children.values())"
   ]
  },
  {
   "cell_type": "code",
   "execution_count": 89,
   "metadata": {
    "ExecuteTime": {
     "end_time": "2018-06-09T21:19:58.155044Z",
     "start_time": "2018-06-09T21:19:58.147996Z"
    }
   },
   "outputs": [],
   "source": [
    "raw_tree[\"children\"] = combine_children(raw_tree[\"children\"])"
   ]
  },
  {
   "cell_type": "code",
   "execution_count": 90,
   "metadata": {
    "ExecuteTime": {
     "end_time": "2018-06-09T21:19:59.349056Z",
     "start_time": "2018-06-09T21:19:59.338457Z"
    }
   },
   "outputs": [
    {
     "data": {
      "text/plain": [
       "[{'children': [{'children': [{'children': [{'name': '.', 'size': 1}],\n",
       "      'name': 'zooks'},\n",
       "     {'children': [{'name': 'zooktown', 'size': 1}], 'name': 'from'}],\n",
       "    'name': 'not',\n",
       "    'size': 0},\n",
       "   {'children': [{'children': [{'name': '.', 'size': 1}], 'name': 'yooktown'}],\n",
       "    'name': 'from'}],\n",
       "  'name': 'are',\n",
       "  'size': 0},\n",
       " {'children': [{'children': [{'children': [{'children': [{'name': '.',\n",
       "          'size': 1}],\n",
       "        'name': 'cook'}],\n",
       "      'name': 'to'}],\n",
       "    'name': 'how'}],\n",
       "  'name': 'know'},\n",
       " {'children': [{'children': [{'children': [{'name': '.', 'size': 1}],\n",
       "      'name': 'cook'},\n",
       "     {'children': [{'children': [{'name': '.', 'size': 1}],\n",
       "        'name': 'magazines'},\n",
       "       {'children': [{'name': '.', 'size': 1}], 'name': 'books'}],\n",
       "      'name': 'read',\n",
       "      'size': 0}],\n",
       "    'name': 'to',\n",
       "    'size': 0}],\n",
       "  'name': 'like',\n",
       "  'size': 0},\n",
       " {'children': [{'children': [{'name': '.', 'size': 1}], 'name': 'zooktown'}],\n",
       "  'name': 'in'}]"
      ]
     },
     "execution_count": 90,
     "metadata": {},
     "output_type": "execute_result"
    }
   ],
   "source": [
    "raw_tree[\"children\"]"
   ]
  },
  {
   "cell_type": "code",
   "execution_count": 95,
   "metadata": {
    "ExecuteTime": {
     "end_time": "2018-06-09T21:21:51.212160Z",
     "start_time": "2018-06-09T21:21:51.202183Z"
    }
   },
   "outputs": [],
   "source": [
    "new_tree = raw_tree.copy()\n",
    "new_tree[\"raw_children\"] = None"
   ]
  },
  {
   "cell_type": "code",
   "execution_count": 96,
   "metadata": {
    "ExecuteTime": {
     "end_time": "2018-06-09T21:21:51.618365Z",
     "start_time": "2018-06-09T21:21:51.590154Z"
    }
   },
   "outputs": [],
   "source": [
    "import json\n",
    "with open('tree.json', 'w') as outfile:\n",
    "    json.dump(new_tree, outfile)"
   ]
  },
  {
   "cell_type": "code",
   "execution_count": null,
   "metadata": {},
   "outputs": [],
   "source": []
  }
 ],
 "metadata": {
  "hide_input": false,
  "kernelspec": {
   "display_name": "Python 3",
   "language": "python",
   "name": "python3"
  },
  "language_info": {
   "codemirror_mode": {
    "name": "ipython",
    "version": 3
   },
   "file_extension": ".py",
   "mimetype": "text/x-python",
   "name": "python",
   "nbconvert_exporter": "python",
   "pygments_lexer": "ipython3",
   "version": "3.6.4"
  },
  "nbTranslate": {
   "displayLangs": [
    "*"
   ],
   "hotkey": "alt-t",
   "langInMainMenu": true,
   "sourceLang": "en",
   "targetLang": "fr",
   "useGoogleTranslate": true
  },
  "toc": {
   "nav_menu": {},
   "number_sections": true,
   "sideBar": true,
   "skip_h1_title": false,
   "title_cell": "Table of Contents",
   "title_sidebar": "Contents",
   "toc_cell": false,
   "toc_position": {},
   "toc_section_display": true,
   "toc_window_display": false
  },
  "varInspector": {
   "cols": {
    "lenName": 16,
    "lenType": 16,
    "lenVar": 40
   },
   "kernels_config": {
    "python": {
     "delete_cmd_postfix": "",
     "delete_cmd_prefix": "del ",
     "library": "var_list.py",
     "varRefreshCmd": "print(var_dic_list())"
    },
    "r": {
     "delete_cmd_postfix": ") ",
     "delete_cmd_prefix": "rm(",
     "library": "var_list.r",
     "varRefreshCmd": "cat(var_dic_list()) "
    }
   },
   "types_to_exclude": [
    "module",
    "function",
    "builtin_function_or_method",
    "instance",
    "_Feature"
   ],
   "window_display": false
  }
 },
 "nbformat": 4,
 "nbformat_minor": 2
}
