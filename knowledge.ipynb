{
 "cells": [
  {
   "cell_type": "code",
   "execution_count": 124,
   "metadata": {
    "ExecuteTime": {
     "end_time": "2018-06-09T23:23:55.937673Z",
     "start_time": "2018-06-09T23:23:34.377551Z"
    }
   },
   "outputs": [],
   "source": [
    "from bs4 import BeautifulSoup\n",
    "from bs4.element import Comment\n",
    "import requests\n",
    "import urllib.request\n",
    "import re, string\n",
    "from collections import deque\n",
    "import pickle\n",
    "\n",
    "link_queue = deque()\n",
    "processed_links = {}\n",
    "edges = []\n",
    "base = \"https://en.wikipedia.org\"\n",
    "from_link = \"/wiki/Markov_model\"\n",
    "\n",
    "url = f\"{base}{from_link}\"\n",
    "response = requests.get(url)\n",
    "soup = BeautifulSoup(response.content, \"lxml\")"
   ]
  },
  {
   "cell_type": "code",
   "execution_count": 133,
   "metadata": {
    "ExecuteTime": {
     "end_time": "2018-06-10T04:16:30.903610Z",
     "start_time": "2018-06-10T04:16:07.909505Z"
    }
   },
   "outputs": [],
   "source": [
    "def tag_visible(element):\n",
    "    if element.parent.name in ['style', 'script', 'head', 'title', 'meta', '[document]']:\n",
    "        return False\n",
    "    if isinstance(element, Comment):\n",
    "        return False\n",
    "    return True\n",
    "\n",
    "\n",
    "def text_from_html(body):\n",
    "    soup = BeautifulSoup(body, 'html.parser')\n",
    "    texts = soup.findAll(text=True)\n",
    "    visible_texts = filter(tag_visible, texts)  \n",
    "    return u\" \".join(t.strip() for t in visible_texts)\n",
    "\n",
    "def texts_from_html(body):\n",
    "    soup = BeautifulSoup(body, 'html.parser')\n",
    "    texts = soup.findAll(\"p\", text=True)\n",
    "    visible_texts = filter(tag_visible, texts)  \n",
    "    return [t.strip() for t in visible_texts]\n",
    "\n",
    "html = urllib.request.urlopen(url).read()\n",
    "text = text_from_html(html)\n",
    "#texts = texts_from_html(html)\n",
    "soup = BeautifulSoup(html, 'html.parser')\n",
    "p_tags = soup.findAll('p')"
   ]
  },
  {
   "cell_type": "code",
   "execution_count": 136,
   "metadata": {
    "ExecuteTime": {
     "end_time": "2018-06-10T04:18:04.187576Z",
     "start_time": "2018-06-10T04:18:04.182585Z"
    }
   },
   "outputs": [],
   "source": [
    "raw_texts = [p_tag.text for p_tag in p_tags]"
   ]
  },
  {
   "cell_type": "code",
   "execution_count": 137,
   "metadata": {
    "ExecuteTime": {
     "end_time": "2018-06-10T04:18:15.862764Z",
     "start_time": "2018-06-10T04:18:15.854762Z"
    }
   },
   "outputs": [],
   "source": [
    "regex = re.compile(r'[mM]arkov')\n",
    "texts = filter(regex.search, raw_texts)\n",
    "texts = [text.lower() for text in texts]\n",
    "#pattern = re.compile('[^a-z ]')\n",
    "pattern2 = re.compile(' +')\n",
    "texts = [pattern2.sub(\" \", text) for text in texts]"
   ]
  },
  {
   "cell_type": "code",
   "execution_count": 113,
   "metadata": {
    "ExecuteTime": {
     "end_time": "2018-06-09T23:17:34.055866Z",
     "start_time": "2018-06-09T23:17:34.048866Z"
    }
   },
   "outputs": [],
   "source": [
    "#pattern = re.compile(\"\\W+ markov \\W+\")\n",
    "#text = [text.lower() for text in texts]\n",
    "#text"
   ]
  },
  {
   "cell_type": "code",
   "execution_count": 114,
   "metadata": {
    "ExecuteTime": {
     "end_time": "2018-06-09T23:17:34.256862Z",
     "start_time": "2018-06-09T23:17:34.250863Z"
    }
   },
   "outputs": [],
   "source": [
    "#re.findall('\\w+ markov \\w+', text)\n",
    "#re.findall('markov [^.]+', text)"
   ]
  },
  {
   "cell_type": "code",
   "execution_count": 126,
   "metadata": {
    "ExecuteTime": {
     "end_time": "2018-06-09T23:27:52.051333Z",
     "start_time": "2018-06-09T23:27:52.027334Z"
    }
   },
   "outputs": [],
   "source": [
    "matches = [re.findall('markov [^.]+', text) for text in texts]\n",
    "matches = [item for sublist in matches for item in sublist]"
   ]
  },
  {
   "cell_type": "code",
   "execution_count": 127,
   "metadata": {
    "ExecuteTime": {
     "end_time": "2018-06-09T23:27:53.922108Z",
     "start_time": "2018-06-09T23:27:53.900114Z"
    }
   },
   "outputs": [],
   "source": [
    "with open('matches.pkl', 'wb') as f:\n",
    "  pickle.dump(matches, f)"
   ]
  },
  {
   "cell_type": "code",
   "execution_count": 132,
   "metadata": {
    "ExecuteTime": {
     "end_time": "2018-06-09T23:30:00.792659Z",
     "start_time": "2018-06-09T23:30:00.782665Z"
    }
   },
   "outputs": [
    {
     "data": {
      "text/plain": [
       "['markov model is a stochastic model used to model randomly changing systems',\n",
       " 'markov property)',\n",
       " 'markov property',\n",
       " 'markov models used in different situations, depending on whether every sequential state is observable or not, and whether the system is to be adjusted on the basis of observations made:',\n",
       " 'markov model is the markov chain',\n",
       " 'markov property suggests that the distribution for this variable depends only on the distribution of previous state',\n",
       " 'markov chain is markov chain monte carlo, which uses the markov property to prove that a particular method for performing a random walk will sample from the joint distribution',\n",
       " 'markov model is a markov chain for which the state is only partially observable',\n",
       " 'markov models exist',\n",
       " 'markov model',\n",
       " 'markov decision process is a markov chain in which state transitions depend on the current state and an action vector that is applied to the system',\n",
       " 'markov decision process is used to compute a policy of actions that will maximize some utility with respect to expected rewards',\n",
       " 'markov decision process (pomdp) is a markov decision process in which the state of the system is only partially observed',\n",
       " 'markov random field, or markov network, may be considered to be a generalization of a markov chain in multiple dimensions',\n",
       " 'markov chain, state depends only on the previous state in time, whereas in a markov random field, each state depends on its neighbors in any of multiple directions',\n",
       " 'markov random field may be visualized as a field or graph of random variables, where the distribution of each random variable depends on the neighboring variables with which it is connected',\n",
       " 'markov random field is useful because it implies that the joint distributions at each vertex in the graph may be computed in this manner',\n",
       " 'markov models can be applied to categorize human behavior at various levels of abstraction',\n",
       " 'markov models are the hierarchical hidden markov model[3] and the abstract hidden markov model',\n",
       " 'markov model (tmm) is a probabilistic-algorithmic markov chain model']"
      ]
     },
     "execution_count": 132,
     "metadata": {},
     "output_type": "execute_result"
    }
   ],
   "source": [
    "matches"
   ]
  },
  {
   "cell_type": "code",
   "execution_count": 139,
   "metadata": {
    "ExecuteTime": {
     "end_time": "2018-06-10T04:19:22.012235Z",
     "start_time": "2018-06-10T04:19:21.994243Z"
    }
   },
   "outputs": [
    {
     "data": {
      "text/plain": [
       "['four common markov models used',\n",
       " 'partially observable markov decision process',\n",
       " 'certain conditional independence properties',\n",
       " 'model randomly changing systems',\n",
       " 'baum – welch algorithm',\n",
       " 'markov chain monte carlo',\n",
       " 'hidden markov models exist',\n",
       " 'abstract hidden markov model',\n",
       " 'model three different natures',\n",
       " 'algorithmic markov chain model',\n",
       " 'hierarchical hidden markov model',\n",
       " 'whether every sequential state',\n",
       " 'markov decision process',\n",
       " 'markov random field may',\n",
       " 'hierarchical markov models',\n",
       " 'hidden markov model',\n",
       " 'one common use',\n",
       " 'tolerant markov model',\n",
       " 'simplest markov model',\n",
       " 'stochastic model used',\n",
       " 'recent approximation techniques',\n",
       " 'dna sequences compression',\n",
       " 'assumption enables reasoning',\n",
       " 'markov property suggests',\n",
       " 'markov property ).',\n",
       " 'markov random field',\n",
       " 'true occurring symbol',\n",
       " 'controlling simple agents',\n",
       " 'categorize human behavior',\n",
       " 'state transitions depend',\n",
       " 'viterbi algorithm finds',\n",
       " 'future states depend',\n",
       " '7 ][ 8',\n",
       " '4 ][ 6',\n",
       " 'speech audio waveform',\n",
       " 'likely corresponding sequence',\n",
       " 'random variable depends',\n",
       " 'markov chain',\n",
       " 'spoken words given',\n",
       " 'markov model',\n",
       " 'markov property',\n",
       " 'hidden state',\n",
       " 'partially observable',\n",
       " 'markov network',\n",
       " 'viterbi algorithm',\n",
       " 'random variable',\n",
       " 'partially observed',\n",
       " 'model allow',\n",
       " 'given model',\n",
       " 'speech audio',\n",
       " 'forward algorithm',\n",
       " 'variable depends',\n",
       " 'random walk',\n",
       " 'random variables',\n",
       " 'different situations',\n",
       " 'different levels',\n",
       " 'state depends',\n",
       " 'spoken text',\n",
       " 'likely sequence',\n",
       " 'last symbol',\n",
       " 'behavior recognition',\n",
       " 'speech recognition',\n",
       " 'previous state',\n",
       " 'current state',\n",
       " 'simple observations',\n",
       " 'would otherwise',\n",
       " 'various levels',\n",
       " 'value iteration',\n",
       " 'two kinds',\n",
       " 'transition function',\n",
       " 'starting probabilities',\n",
       " 'several well',\n",
       " 'reinforcement learning',\n",
       " 'probable instead',\n",
       " 'probabilities according',\n",
       " 'predictive modelling',\n",
       " 'particular method',\n",
       " 'observed data',\n",
       " 'observation function',\n",
       " 'np complete',\n",
       " 'neighboring variables',\n",
       " 'multiple directions',\n",
       " 'multiple dimensions',\n",
       " 'joint distributions',\n",
       " 'faster learning',\n",
       " 'expected rewards',\n",
       " 'example use',\n",
       " 'efficiently implemented',\n",
       " 'complex information',\n",
       " 'clique potentials',\n",
       " 'action vector',\n",
       " 'graph may',\n",
       " 'related methods',\n",
       " 'closely related',\n",
       " 'typically insufficient',\n",
       " 'successful applications',\n",
       " 'probability theory',\n",
       " 'probabilistic forecasting',\n",
       " 'precisely determine',\n",
       " 'known algorithms',\n",
       " 'joint distribution',\n",
       " 'conditioning context',\n",
       " 'models',\n",
       " 'observations made',\n",
       " 'used',\n",
       " 'model',\n",
       " 'observable',\n",
       " 'field',\n",
       " 'whether',\n",
       " 'may',\n",
       " 'state',\n",
       " 'words',\n",
       " 'states',\n",
       " 'sequence',\n",
       " 'given',\n",
       " '7',\n",
       " '4',\n",
       " 'related',\n",
       " 'observations',\n",
       " 'typically',\n",
       " 'probability',\n",
       " 'probabilistic',\n",
       " 'made',\n",
       " 'known',\n",
       " 'graph',\n",
       " 'example',\n",
       " 'distribution',\n",
       " 'determine',\n",
       " 'context',\n",
       " 'applications',\n",
       " 'whereas',\n",
       " 'visualized',\n",
       " 'vertex',\n",
       " 'variety',\n",
       " 'utility',\n",
       " 'uses',\n",
       " 'useful',\n",
       " 'tmm',\n",
       " 'time',\n",
       " 'task',\n",
       " 'system',\n",
       " 'substitutions',\n",
       " 'specifically',\n",
       " 'solved',\n",
       " 'series',\n",
       " 'sample',\n",
       " 'room',\n",
       " 'robots',\n",
       " 'respect',\n",
       " 'reason',\n",
       " 'prove',\n",
       " 'product',\n",
       " 'problem',\n",
       " 'pomdps',\n",
       " 'pomdp',\n",
       " 'policy',\n",
       " 'person',\n",
       " 'performing',\n",
       " 'occurred',\n",
       " 'occur',\n",
       " 'neighbors',\n",
       " 'modeling',\n",
       " 'maximize',\n",
       " 'manner',\n",
       " 'location',\n",
       " 'intractable',\n",
       " 'interpreted',\n",
       " 'inference',\n",
       " 'implies',\n",
       " 'generally',\n",
       " 'generalization',\n",
       " 'fields',\n",
       " 'exhibit',\n",
       " 'events',\n",
       " 'estimate',\n",
       " 'desirable',\n",
       " 'depending',\n",
       " 'deletions',\n",
       " 'contain',\n",
       " 'considers',\n",
       " 'considered',\n",
       " 'connected',\n",
       " 'computed',\n",
       " 'compute',\n",
       " 'computation',\n",
       " 'cliques',\n",
       " 'changes',\n",
       " 'basis',\n",
       " 'assumes',\n",
       " 'assumed',\n",
       " 'assigns',\n",
       " 'applied',\n",
       " 'adjusted',\n",
       " 'additions',\n",
       " 'activity',\n",
       " 'actions',\n",
       " 'abstraction',\n",
       " '5',\n",
       " '3',\n",
       " '2',\n",
       " '1']"
      ]
     },
     "execution_count": 139,
     "metadata": {},
     "output_type": "execute_result"
    }
   ],
   "source": [
    "from rake_nltk import Rake\n",
    "\n",
    "# Uses stopwords for english from NLTK, and all puntuation characters.\n",
    "r = Rake()\n",
    "\n",
    "r.extract_keywords_from_text(\" \".join(t.strip() for t in raw_texts))\n",
    "\n",
    "r.get_ranked_phrases() # To get keyword phrases ranked highest to lowest."
   ]
  },
  {
   "cell_type": "code",
   "execution_count": null,
   "metadata": {},
   "outputs": [],
   "source": []
  }
 ],
 "metadata": {
  "hide_input": false,
  "kernelspec": {
   "display_name": "Python 3",
   "language": "python",
   "name": "python3"
  },
  "language_info": {
   "codemirror_mode": {
    "name": "ipython",
    "version": 3
   },
   "file_extension": ".py",
   "mimetype": "text/x-python",
   "name": "python",
   "nbconvert_exporter": "python",
   "pygments_lexer": "ipython3",
   "version": "3.6.4"
  },
  "nbTranslate": {
   "displayLangs": [
    "*"
   ],
   "hotkey": "alt-t",
   "langInMainMenu": true,
   "sourceLang": "en",
   "targetLang": "fr",
   "useGoogleTranslate": true
  },
  "toc": {
   "nav_menu": {},
   "number_sections": true,
   "sideBar": true,
   "skip_h1_title": false,
   "title_cell": "Table of Contents",
   "title_sidebar": "Contents",
   "toc_cell": false,
   "toc_position": {},
   "toc_section_display": true,
   "toc_window_display": false
  },
  "varInspector": {
   "cols": {
    "lenName": 16,
    "lenType": 16,
    "lenVar": 40
   },
   "kernels_config": {
    "python": {
     "delete_cmd_postfix": "",
     "delete_cmd_prefix": "del ",
     "library": "var_list.py",
     "varRefreshCmd": "print(var_dic_list())"
    },
    "r": {
     "delete_cmd_postfix": ") ",
     "delete_cmd_prefix": "rm(",
     "library": "var_list.r",
     "varRefreshCmd": "cat(var_dic_list()) "
    }
   },
   "types_to_exclude": [
    "module",
    "function",
    "builtin_function_or_method",
    "instance",
    "_Feature"
   ],
   "window_display": false
  }
 },
 "nbformat": 4,
 "nbformat_minor": 2
}
