{
 "cells": [
  {
   "cell_type": "code",
   "execution_count": 1,
   "metadata": {
    "ExecuteTime": {
     "end_time": "2018-06-09T12:53:47.173341Z",
     "start_time": "2018-06-09T02:50:21.748914Z"
    }
   },
   "outputs": [
    {
     "name": "stdout",
     "output_type": "stream",
     "text": [
      "failed for /wiki/Quarterbridge\n",
      "failed for /wiki/Australian_Film_Commission\n",
      "1000 /wiki/Lands_Department\n",
      "2000 /wiki/January_28_Incident\n",
      "3000 /wiki/Archive.org\n",
      "4000 /wiki/Mountains_of_the_Moon_(Africa)\n",
      "5000 /wiki/UC_Irvine_Anteaters_baseball\n",
      "6000 /wiki/Korczak%27s_orphanages\n",
      "7000 /wiki/South_Africa_national_rugby_league_team\n",
      "8000 /wiki/A_Scanner_Darkly_(film)\n",
      "9000 /wiki/Remote_control_animal\n",
      "10000 /wiki/Rutherford_County_Home_Builders_Association\n",
      "11000 /wiki/Scythian_Neapolis\n",
      "12000 /wiki/Top_Ground_Gear_Force\n",
      "13000 /wiki/Kasumigaseki_Country_Club\n",
      "14000 /wiki/List_of_leagues_of_American_football\n",
      "15000 /wiki/Palau_Municipal_d%27Esports_de_Badalona\n",
      "16000 /wiki/Yvr%C3%A9-le-P%C3%B4lin\n",
      "17000 /wiki/American_society\n",
      "18000 /wiki/King_of_Iraq\n",
      "19000 /wiki/Zylon\n",
      "20000 /wiki/Faroo\n",
      "21000 /wiki/Julian_Oswald\n",
      "22000 /wiki/Confidence_and_Security-Building_Measures\n",
      "23000 /wiki/The_FASEB_Journal\n",
      "24000 /wiki/Uruguayans_in_Italy\n",
      "25000 /wiki/R2_(Rock%27n%27Reel)\n",
      "26000 /wiki/USS_Rappahannock_(AF-6)\n",
      "27000 /wiki/Abbey_of_San_Mercuriale,_Forl%C3%AC\n",
      "28000 /wiki/Virtues\n",
      "29000 /wiki/Software_Heritage\n",
      "30000 /wiki/Damon_Young\n",
      "31000 /wiki/American_Mathematics_Society\n",
      "32000 /wiki/Remixes_(Phenomenal_Handclap_Band_album)\n",
      "33000 /wiki/QMI_Agency\n",
      "34000 /wiki/Repatriation_of_indentured_Indians_from_Fiji\n",
      "35000 /wiki/Samuel_Rutherford_Crockett\n",
      "36000 /wiki/CultureMap\n",
      "37000 /wiki/Radial_spoke\n",
      "38000 /wiki/Vlaamse_Uitgeversmaatschappij\n",
      "39000 /wiki/Stouffer%27s\n",
      "40000 /wiki/The_Life_of_Charlotte_Bront%C3%AB\n",
      "41000 /wiki/Danny_Dumaresque\n",
      "42000 /wiki/Korea_Joongang_Daily\n",
      "43000 /wiki/Pacific_Legal_Foundation\n",
      "44000 /wiki/Frances_Hardinge\n",
      "45000 /wiki/Eric_James_Denton\n",
      "46000 /wiki/Raja_Beni_Mellal\n",
      "47000 /wiki/Oxfordshire_Architectural_and_Historical_Society\n",
      "48000 /wiki/BritGrav\n",
      "49000 /wiki/Istituto_Nazionale_di_Astrofisica\n",
      "50000 /wiki/Herrliche_Zeiten\n",
      "51000 /wiki/Baker_Academic\n",
      "52000 /wiki/Civilian_casualty\n",
      "53000 /wiki/The_Valentine\n",
      "54000 /wiki/Tr%C3%A9sor_de_la_langue_fran%C3%A7aise_informatis%C3%A9\n",
      "55000 /wiki/Sailing_at_the_2012_Summer_Paralympics\n",
      "56000 /wiki/Reformed_Church_in_Africa,_South_Africa\n",
      "57000 /wiki/Tony_F._Mack\n",
      "58000 /wiki/Suzanne_M._Bianchi\n",
      "59000 /wiki/Constantinian_bronzes\n",
      "60000 /wiki/Voultegon\n",
      "61000 /wiki/SFPD\n",
      "62000 /wiki/Ziegenr%C3%BCck\n",
      "63000 /wiki/Don_Constantine\n",
      "64000 /wiki/Chittagong_Colony\n",
      "65000 /wiki/Offshore_Drilling\n",
      "66000 /wiki/New_Look_(store)\n",
      "67000 /wiki/California_Department_of_Human_Resources\n",
      "68000 /wiki/The_New_Show\n",
      "69000 /wiki/Island_Sun\n",
      "70000 /wiki/Vila_Nova_de_Poiares_Municipality\n",
      "71000 /wiki/James_Frank_Woods\n",
      "72000 /wiki/2014_Connacht_Senior_Football_Championship\n",
      "73000 /wiki/Les_%C3%89tablissements_Jacques_Ha%C3%AFk\n",
      "74000 /wiki/Pecq\n",
      "75000 /wiki/Margate,_KwaZulu-Natal\n",
      "76000 /wiki/P.J._Blok\n",
      "77000 /wiki/Richard_Frith\n",
      "78000 /wiki/Brabham_BT10\n",
      "79000 /wiki/Campbell%E2%80%93Stokes_recorder\n",
      "80000 /wiki/United_Arab_Emirates_men%27s_national_under-18_ice_hockey_team\n",
      "81000 /wiki/The_Pennsylvania_Gazette\n",
      "82000 /wiki/Zany_Brainy\n",
      "83000 /wiki/Henry_Parks_Wright\n",
      "84000 /wiki/Turgut_%C3%96zakman\n",
      "85000 /wiki/Haddington_RFC\n",
      "86000 /wiki/Michael_Garron_Hospital\n",
      "87000 /wiki/Y%C9%99h%C9%99r%C3%A7i_Qazaxlar\n",
      "88000 /wiki/Tyre_mousse\n",
      "89000 /wiki/Qarad%C9%99r%C9%99\n",
      "90000 /wiki/History_of_Lucca\n",
      "91000 /wiki/Fujiwara_no_Teika\n",
      "92000 /wiki/Rusz%C3%B3w\n",
      "93000 /wiki/International_Society_of_Arboriculture\n",
      "94000 /wiki/The_Marriage_(video_game)\n",
      "95000 /wiki/Economic_base\n",
      "96000 /wiki/Danny_Morrison_(author)\n",
      "97000 /wiki/Telemarketer\n",
      "98000 /wiki/The_Institute_of_Classical_Architecture_and_Art\n",
      "99000 /wiki/Schopenhauer%27s_criticism_of_the_Kantian_philosophy\n",
      "100000 /wiki/The_Road_Ahead_(album)\n"
     ]
    }
   ],
   "source": [
    "from bs4 import BeautifulSoup\n",
    "import requests\n",
    "import re\n",
    "from collections import deque\n",
    "\n",
    "link_queue = deque()\n",
    "processed_links = {}\n",
    "edges = []\n",
    "base = \"https://en.wikipedia.org\"\n",
    "from_link = \"/wiki/Zhangshu\"\n",
    "link_queue.append(from_link)\n",
    "processed_links[from_link] = 1\n",
    "\n",
    "step_count=0\n",
    "max_steps = 100000\n",
    "failure_count=0\n",
    "failed_links = []\n",
    "while link_queue and step_count<max_steps:\n",
    "  step_count += 1\n",
    "  from_link = link_queue.popleft()\n",
    "  if step_count%1000==0:\n",
    "    print(step_count,from_link)\n",
    "  url = f\"{base}{from_link}\"\n",
    "  try:\n",
    "      response = requests.get(url)\n",
    "      soup = BeautifulSoup(response.content, \"lxml\")  \n",
    "      for link in soup.findAll('a', attrs={'href': re.compile(\"^/wiki/\")}):\n",
    "        link_url = link[\"href\"]\n",
    "        if not (\":\" in link_url or \"#\" in link_url):\n",
    "          edges.append((from_link,link_url))\n",
    "          if processed_links.get(link_url) is None:\n",
    "            link_queue.appendleft(link_url)\n",
    "            processed_links[link_url]=1\n",
    "  except:\n",
    "      failure_count += 1\n",
    "      failed_links.append(from_link)\n",
    "      print(f\"failed for {from_link}\")"
   ]
  },
  {
   "cell_type": "code",
   "execution_count": 3,
   "metadata": {
    "ExecuteTime": {
     "end_time": "2018-06-09T12:54:13.667841Z",
     "start_time": "2018-06-09T12:54:13.665744Z"
    }
   },
   "outputs": [
    {
     "data": {
      "text/plain": [
       "100000"
      ]
     },
     "execution_count": 3,
     "metadata": {},
     "output_type": "execute_result"
    }
   ],
   "source": [
    "step_count"
   ]
  },
  {
   "cell_type": "code",
   "execution_count": null,
   "metadata": {},
   "outputs": [],
   "source": []
  }
 ],
 "metadata": {
  "hide_input": false,
  "kernelspec": {
   "display_name": "Python 3",
   "language": "python",
   "name": "python3"
  },
  "language_info": {
   "codemirror_mode": {
    "name": "ipython",
    "version": 3
   },
   "file_extension": ".py",
   "mimetype": "text/x-python",
   "name": "python",
   "nbconvert_exporter": "python",
   "pygments_lexer": "ipython3",
   "version": "3.6.4"
  },
  "toc": {
   "nav_menu": {},
   "number_sections": true,
   "sideBar": true,
   "skip_h1_title": false,
   "title_cell": "Table of Contents",
   "title_sidebar": "Contents",
   "toc_cell": false,
   "toc_position": {},
   "toc_section_display": true,
   "toc_window_display": false
  },
  "varInspector": {
   "cols": {
    "lenName": 16,
    "lenType": 16,
    "lenVar": 40
   },
   "kernels_config": {
    "python": {
     "delete_cmd_postfix": "",
     "delete_cmd_prefix": "del ",
     "library": "var_list.py",
     "varRefreshCmd": "print(var_dic_list())"
    },
    "r": {
     "delete_cmd_postfix": ") ",
     "delete_cmd_prefix": "rm(",
     "library": "var_list.r",
     "varRefreshCmd": "cat(var_dic_list()) "
    }
   },
   "types_to_exclude": [
    "module",
    "function",
    "builtin_function_or_method",
    "instance",
    "_Feature"
   ],
   "window_display": false
  }
 },
 "nbformat": 4,
 "nbformat_minor": 2
}
